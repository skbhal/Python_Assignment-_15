{
 "cells": [
  {
   "cell_type": "markdown",
   "id": "8a9d91a7",
   "metadata": {},
   "source": [
    "#### Ques- 1  How many seconds are in an hours? Use the intreprater as a calculater and multiply the number of sesc in a minnte(60) by the number of min in an hours(also 60)."
   ]
  },
  {
   "cell_type": "code",
   "execution_count": 1,
   "id": "2d76e366",
   "metadata": {},
   "outputs": [
    {
     "data": {
      "text/plain": [
       "3600"
      ]
     },
     "execution_count": 1,
     "metadata": {},
     "output_type": "execute_result"
    }
   ],
   "source": [
    "60*60"
   ]
  },
  {
   "cell_type": "markdown",
   "id": "febbc162",
   "metadata": {},
   "source": [
    "#### Ques- 2 Assing the result from the previous task(secomnds in an hour) to a variable called seconds_per_hour."
   ]
  },
  {
   "cell_type": "code",
   "execution_count": 3,
   "id": "dddc9728",
   "metadata": {},
   "outputs": [
    {
     "data": {
      "text/plain": [
       "3600"
      ]
     },
     "execution_count": 3,
     "metadata": {},
     "output_type": "execute_result"
    }
   ],
   "source": [
    "Seconds_per_Hour = 60 * 60\n",
    "Seconds_per_Hour"
   ]
  },
  {
   "cell_type": "markdown",
   "id": "f43d5de4",
   "metadata": {},
   "source": [
    "#### Ques-3 How many sec do you thing there are in a day? make use of the variable seconds per hour and minutes per hour"
   ]
  },
  {
   "cell_type": "code",
   "execution_count": 5,
   "id": "01540f57",
   "metadata": {},
   "outputs": [
    {
     "data": {
      "text/plain": [
       "86400"
      ]
     },
     "execution_count": 5,
     "metadata": {},
     "output_type": "execute_result"
    }
   ],
   "source": [
    "Seconds_per_Hour * 24"
   ]
  },
  {
   "cell_type": "markdown",
   "id": "7c2a42db",
   "metadata": {},
   "source": [
    "#### Ques- 4 Calculate sec per dayy again, but this time save the result in a varaiable called Seconds_per_day"
   ]
  },
  {
   "cell_type": "code",
   "execution_count": 7,
   "id": "bb114088",
   "metadata": {},
   "outputs": [
    {
     "data": {
      "text/plain": [
       "86400"
      ]
     },
     "execution_count": 7,
     "metadata": {},
     "output_type": "execute_result"
    }
   ],
   "source": [
    "Seconds_per_day = Seconds_per_Hour * 24\n",
    "Seconds_per_day"
   ]
  },
  {
   "cell_type": "markdown",
   "id": "ced23c7e",
   "metadata": {},
   "source": [
    "#### Ques- 5 Divide Seconds_per_day by Seconds_per_Hour. Use floting (/)division"
   ]
  },
  {
   "cell_type": "code",
   "execution_count": 8,
   "id": "5047308c",
   "metadata": {},
   "outputs": [
    {
     "data": {
      "text/plain": [
       "24.0"
      ]
     },
     "execution_count": 8,
     "metadata": {},
     "output_type": "execute_result"
    }
   ],
   "source": [
    "Seconds_per_day/Seconds_per_Hour"
   ]
  },
  {
   "cell_type": "markdown",
   "id": "ee4dcbb3",
   "metadata": {},
   "source": [
    "#### Ques- 6 Divide seconds_per_day by seconds_per_hour, using integer (//) division. Did this number agree with the floating-point value from the previous question, aside from the final .0?"
   ]
  },
  {
   "cell_type": "code",
   "execution_count": 9,
   "id": "38b43326",
   "metadata": {},
   "outputs": [
    {
     "data": {
      "text/plain": [
       "24"
      ]
     },
     "execution_count": 9,
     "metadata": {},
     "output_type": "execute_result"
    }
   ],
   "source": [
    "Seconds_per_day//Seconds_per_Hour"
   ]
  },
  {
   "cell_type": "markdown",
   "id": "c2d9be40",
   "metadata": {},
   "source": [
    "#### Ques- 7 Write a generator, genPrime, that returns the sequance of prime number on successive calls to its next() methon: 2, 3, 5, 7, 11,...."
   ]
  },
  {
   "cell_type": "code",
   "execution_count": 19,
   "id": "7cf1ab25",
   "metadata": {},
   "outputs": [
    {
     "name": "stdout",
     "output_type": "stream",
     "text": [
      "<generator object genPrime at 0x00000182DBFFBF20>\n"
     ]
    }
   ],
   "source": [
    "def genPrime():\n",
    "    primes = [2]\n",
    "    yield prime[0]\n",
    "    guess = 3\n",
    "    while True:\n",
    "        if all (guess%x != 0 for x in primes):\n",
    "            prime.append(guess)\n",
    "        if guess == primes[-1]:\n",
    "            yield primes [-1]\n",
    "        guess +=2\n",
    "         \n",
    "print(genPrime())\n"
   ]
  },
  {
   "cell_type": "code",
   "execution_count": null,
   "id": "f3746367",
   "metadata": {},
   "outputs": [],
   "source": []
  }
 ],
 "metadata": {
  "kernelspec": {
   "display_name": "Python 3 (ipykernel)",
   "language": "python",
   "name": "python3"
  },
  "language_info": {
   "codemirror_mode": {
    "name": "ipython",
    "version": 3
   },
   "file_extension": ".py",
   "mimetype": "text/x-python",
   "name": "python",
   "nbconvert_exporter": "python",
   "pygments_lexer": "ipython3",
   "version": "3.9.7"
  }
 },
 "nbformat": 4,
 "nbformat_minor": 5
}
